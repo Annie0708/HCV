{
 "cells": [
  {
   "cell_type": "markdown",
   "id": "b3edd753",
   "metadata": {},
   "source": [
    "# HCV\n",
    "Data Source: \n",
    "UCI Machine Learning Repository: https://archive.ics.uci.edu/ml/datasets/HCV+data\n",
    "\n",
    "Relevant Papers: \n",
    "\n",
    "- Lichtinghagen R et al. J Hepatol 2013; 59: 236-42\n",
    "\n",
    "- Hoffmann G et al. Using machine learning techniques to generate laboratory diagnostic pathways- a case study. J Lab Precis Med 2018; 3: 58-67"
   ]
  },
  {
   "cell_type": "code",
   "execution_count": 223,
   "id": "49c7d77b",
   "metadata": {},
   "outputs": [],
   "source": [
    "import pandas as pd\n",
    "import numpy as np\n",
    "import matplotlib.pyplot as plt\n",
    "import scikitplot as skplt\n",
    "import xgboost as xgb\n",
    "import lightgbm as lgb\n",
    "import catboost as ctb\n",
    "\n",
    "from sklearn.dummy import DummyClassifier\n",
    "from sklearn.linear_model import LogisticRegression\n",
    "from sklearn.tree import DecisionTreeClassifier\n",
    "from sklearn.ensemble import RandomForestClassifier, ExtraTreesClassifier\n",
    "\n",
    "from sklearn.metrics import accuracy_score, classification_report\n",
    "from sklearn.metrics import confusion_matrix, ConfusionMatrixDisplay\n",
    "\n",
    "from sklearn.model_selection import train_test_split, KFold, cross_val_predict\n",
    "\n",
    "from functools import partial\n",
    "from hyperopt import hp, fmin, tpe, STATUS_OK, Trials"
   ]
  },
  {
   "cell_type": "code",
   "execution_count": 2,
   "id": "ad6468ee",
   "metadata": {},
   "outputs": [],
   "source": [
    "df = pd.read_csv(\"https://archive.ics.uci.edu/ml/machine-learning-databases/00571/hcvdat0.csv\")"
   ]
  },
  {
   "cell_type": "markdown",
   "id": "dc7d7c72",
   "metadata": {},
   "source": [
    "### Przygotowanie danych"
   ]
  },
  {
   "cell_type": "code",
   "execution_count": 3,
   "id": "7f7d3b94",
   "metadata": {},
   "outputs": [
    {
     "name": "stdout",
     "output_type": "stream",
     "text": [
      "<class 'pandas.core.frame.DataFrame'>\n",
      "RangeIndex: 615 entries, 0 to 614\n",
      "Data columns (total 14 columns):\n",
      " #   Column      Non-Null Count  Dtype  \n",
      "---  ------      --------------  -----  \n",
      " 0   Unnamed: 0  615 non-null    int64  \n",
      " 1   Category    615 non-null    object \n",
      " 2   Age         615 non-null    int64  \n",
      " 3   Sex         615 non-null    object \n",
      " 4   ALB         614 non-null    float64\n",
      " 5   ALP         597 non-null    float64\n",
      " 6   ALT         614 non-null    float64\n",
      " 7   AST         615 non-null    float64\n",
      " 8   BIL         615 non-null    float64\n",
      " 9   CHE         615 non-null    float64\n",
      " 10  CHOL        605 non-null    float64\n",
      " 11  CREA        615 non-null    float64\n",
      " 12  GGT         615 non-null    float64\n",
      " 13  PROT        614 non-null    float64\n",
      "dtypes: float64(10), int64(2), object(2)\n",
      "memory usage: 67.4+ KB\n"
     ]
    }
   ],
   "source": [
    "df.info()"
   ]
  },
  {
   "cell_type": "markdown",
   "id": "09ca03b7",
   "metadata": {},
   "source": [
    "Zbiór danych zawiera 615 instancji i 14 atrybutów. Atrybuty mają charakter liczb naturalnych (Unnamed:0 oraz Age), obiektów tekstowych (Category i Sex)  oraz liczb zmiennoprzecinkowych (ALB-PROT)"
   ]
  },
  {
   "cell_type": "code",
   "execution_count": 4,
   "id": "7a725929",
   "metadata": {},
   "outputs": [
    {
     "data": {
      "text/html": [
       "<div>\n",
       "<style scoped>\n",
       "    .dataframe tbody tr th:only-of-type {\n",
       "        vertical-align: middle;\n",
       "    }\n",
       "\n",
       "    .dataframe tbody tr th {\n",
       "        vertical-align: top;\n",
       "    }\n",
       "\n",
       "    .dataframe thead th {\n",
       "        text-align: right;\n",
       "    }\n",
       "</style>\n",
       "<table border=\"1\" class=\"dataframe\">\n",
       "  <thead>\n",
       "    <tr style=\"text-align: right;\">\n",
       "      <th></th>\n",
       "      <th>Unnamed: 0</th>\n",
       "      <th>Category</th>\n",
       "      <th>Age</th>\n",
       "      <th>Sex</th>\n",
       "      <th>ALB</th>\n",
       "      <th>ALP</th>\n",
       "      <th>ALT</th>\n",
       "      <th>AST</th>\n",
       "      <th>BIL</th>\n",
       "      <th>CHE</th>\n",
       "      <th>CHOL</th>\n",
       "      <th>CREA</th>\n",
       "      <th>GGT</th>\n",
       "      <th>PROT</th>\n",
       "    </tr>\n",
       "  </thead>\n",
       "  <tbody>\n",
       "    <tr>\n",
       "      <th>250</th>\n",
       "      <td>251</td>\n",
       "      <td>0=Blood Donor</td>\n",
       "      <td>55</td>\n",
       "      <td>m</td>\n",
       "      <td>41.5</td>\n",
       "      <td>59.5</td>\n",
       "      <td>15.4</td>\n",
       "      <td>16.2</td>\n",
       "      <td>6.8</td>\n",
       "      <td>6.35</td>\n",
       "      <td>5.22</td>\n",
       "      <td>80.0</td>\n",
       "      <td>12.4</td>\n",
       "      <td>69.9</td>\n",
       "    </tr>\n",
       "    <tr>\n",
       "      <th>226</th>\n",
       "      <td>227</td>\n",
       "      <td>0=Blood Donor</td>\n",
       "      <td>53</td>\n",
       "      <td>m</td>\n",
       "      <td>45.3</td>\n",
       "      <td>53.0</td>\n",
       "      <td>39.6</td>\n",
       "      <td>31.3</td>\n",
       "      <td>9.6</td>\n",
       "      <td>9.96</td>\n",
       "      <td>7.22</td>\n",
       "      <td>73.0</td>\n",
       "      <td>42.9</td>\n",
       "      <td>78.6</td>\n",
       "    </tr>\n",
       "    <tr>\n",
       "      <th>456</th>\n",
       "      <td>457</td>\n",
       "      <td>0=Blood Donor</td>\n",
       "      <td>51</td>\n",
       "      <td>f</td>\n",
       "      <td>38.3</td>\n",
       "      <td>67.7</td>\n",
       "      <td>17.4</td>\n",
       "      <td>19.9</td>\n",
       "      <td>5.4</td>\n",
       "      <td>7.50</td>\n",
       "      <td>4.94</td>\n",
       "      <td>72.0</td>\n",
       "      <td>7.9</td>\n",
       "      <td>69.0</td>\n",
       "    </tr>\n",
       "    <tr>\n",
       "      <th>342</th>\n",
       "      <td>343</td>\n",
       "      <td>0=Blood Donor</td>\n",
       "      <td>35</td>\n",
       "      <td>f</td>\n",
       "      <td>41.0</td>\n",
       "      <td>62.6</td>\n",
       "      <td>27.9</td>\n",
       "      <td>12.0</td>\n",
       "      <td>12.8</td>\n",
       "      <td>10.34</td>\n",
       "      <td>5.90</td>\n",
       "      <td>78.0</td>\n",
       "      <td>22.8</td>\n",
       "      <td>76.1</td>\n",
       "    </tr>\n",
       "    <tr>\n",
       "      <th>137</th>\n",
       "      <td>138</td>\n",
       "      <td>0=Blood Donor</td>\n",
       "      <td>44</td>\n",
       "      <td>m</td>\n",
       "      <td>44.6</td>\n",
       "      <td>53.9</td>\n",
       "      <td>28.4</td>\n",
       "      <td>23.8</td>\n",
       "      <td>8.8</td>\n",
       "      <td>9.47</td>\n",
       "      <td>4.87</td>\n",
       "      <td>94.0</td>\n",
       "      <td>21.3</td>\n",
       "      <td>69.2</td>\n",
       "    </tr>\n",
       "    <tr>\n",
       "      <th>283</th>\n",
       "      <td>284</td>\n",
       "      <td>0=Blood Donor</td>\n",
       "      <td>61</td>\n",
       "      <td>m</td>\n",
       "      <td>34.3</td>\n",
       "      <td>60.5</td>\n",
       "      <td>35.4</td>\n",
       "      <td>26.6</td>\n",
       "      <td>15.2</td>\n",
       "      <td>9.03</td>\n",
       "      <td>7.62</td>\n",
       "      <td>74.0</td>\n",
       "      <td>51.4</td>\n",
       "      <td>76.0</td>\n",
       "    </tr>\n",
       "    <tr>\n",
       "      <th>427</th>\n",
       "      <td>428</td>\n",
       "      <td>0=Blood Donor</td>\n",
       "      <td>48</td>\n",
       "      <td>f</td>\n",
       "      <td>32.0</td>\n",
       "      <td>66.3</td>\n",
       "      <td>14.2</td>\n",
       "      <td>21.3</td>\n",
       "      <td>5.5</td>\n",
       "      <td>4.72</td>\n",
       "      <td>5.23</td>\n",
       "      <td>41.0</td>\n",
       "      <td>17.2</td>\n",
       "      <td>65.6</td>\n",
       "    </tr>\n",
       "    <tr>\n",
       "      <th>280</th>\n",
       "      <td>281</td>\n",
       "      <td>0=Blood Donor</td>\n",
       "      <td>60</td>\n",
       "      <td>m</td>\n",
       "      <td>45.2</td>\n",
       "      <td>89.4</td>\n",
       "      <td>38.6</td>\n",
       "      <td>27.2</td>\n",
       "      <td>8.6</td>\n",
       "      <td>5.19</td>\n",
       "      <td>6.01</td>\n",
       "      <td>75.0</td>\n",
       "      <td>76.9</td>\n",
       "      <td>74.4</td>\n",
       "    </tr>\n",
       "    <tr>\n",
       "      <th>36</th>\n",
       "      <td>37</td>\n",
       "      <td>0=Blood Donor</td>\n",
       "      <td>35</td>\n",
       "      <td>m</td>\n",
       "      <td>41.5</td>\n",
       "      <td>115.1</td>\n",
       "      <td>24.1</td>\n",
       "      <td>30.4</td>\n",
       "      <td>5.7</td>\n",
       "      <td>9.41</td>\n",
       "      <td>4.33</td>\n",
       "      <td>81.0</td>\n",
       "      <td>22.2</td>\n",
       "      <td>71.3</td>\n",
       "    </tr>\n",
       "    <tr>\n",
       "      <th>557</th>\n",
       "      <td>558</td>\n",
       "      <td>1=Hepatitis</td>\n",
       "      <td>51</td>\n",
       "      <td>m</td>\n",
       "      <td>43.0</td>\n",
       "      <td>37.2</td>\n",
       "      <td>21.4</td>\n",
       "      <td>132.8</td>\n",
       "      <td>5.0</td>\n",
       "      <td>10.12</td>\n",
       "      <td>5.23</td>\n",
       "      <td>76.2</td>\n",
       "      <td>76.4</td>\n",
       "      <td>76.7</td>\n",
       "    </tr>\n",
       "  </tbody>\n",
       "</table>\n",
       "</div>"
      ],
      "text/plain": [
       "     Unnamed: 0       Category  Age Sex   ALB    ALP   ALT    AST   BIL  \\\n",
       "250         251  0=Blood Donor   55   m  41.5   59.5  15.4   16.2   6.8   \n",
       "226         227  0=Blood Donor   53   m  45.3   53.0  39.6   31.3   9.6   \n",
       "456         457  0=Blood Donor   51   f  38.3   67.7  17.4   19.9   5.4   \n",
       "342         343  0=Blood Donor   35   f  41.0   62.6  27.9   12.0  12.8   \n",
       "137         138  0=Blood Donor   44   m  44.6   53.9  28.4   23.8   8.8   \n",
       "283         284  0=Blood Donor   61   m  34.3   60.5  35.4   26.6  15.2   \n",
       "427         428  0=Blood Donor   48   f  32.0   66.3  14.2   21.3   5.5   \n",
       "280         281  0=Blood Donor   60   m  45.2   89.4  38.6   27.2   8.6   \n",
       "36           37  0=Blood Donor   35   m  41.5  115.1  24.1   30.4   5.7   \n",
       "557         558    1=Hepatitis   51   m  43.0   37.2  21.4  132.8   5.0   \n",
       "\n",
       "       CHE  CHOL  CREA   GGT  PROT  \n",
       "250   6.35  5.22  80.0  12.4  69.9  \n",
       "226   9.96  7.22  73.0  42.9  78.6  \n",
       "456   7.50  4.94  72.0   7.9  69.0  \n",
       "342  10.34  5.90  78.0  22.8  76.1  \n",
       "137   9.47  4.87  94.0  21.3  69.2  \n",
       "283   9.03  7.62  74.0  51.4  76.0  \n",
       "427   4.72  5.23  41.0  17.2  65.6  \n",
       "280   5.19  6.01  75.0  76.9  74.4  \n",
       "36    9.41  4.33  81.0  22.2  71.3  \n",
       "557  10.12  5.23  76.2  76.4  76.7  "
      ]
     },
     "execution_count": 4,
     "metadata": {},
     "output_type": "execute_result"
    }
   ],
   "source": [
    "df.sample(10)"
   ]
  },
  {
   "cell_type": "code",
   "execution_count": 5,
   "id": "d1253158",
   "metadata": {},
   "outputs": [
    {
     "data": {
      "text/plain": [
       "array(['0=Blood Donor', '0s=suspect Blood Donor', '1=Hepatitis',\n",
       "       '2=Fibrosis', '3=Cirrhosis'], dtype=object)"
      ]
     },
     "execution_count": 5,
     "metadata": {},
     "output_type": "execute_result"
    }
   ],
   "source": [
    "df['Category'].unique()"
   ]
  },
  {
   "cell_type": "markdown",
   "id": "462a36bc",
   "metadata": {},
   "source": [
    "W zbiorze danych występuje 5 klas:\n",
    "- 0 - dawca krwi (pacjent zdrowy),\n",
    "- 0s - dawca krwi podejrzany o zakażenie HCV,\n",
    "- 1 - hepatitis (pacjent chory na zapalenie wątroby typu C),\n",
    "- 2 - fibrosis (pacjent ze zwłóknieniami wątroby),\n",
    "- 3 - cirrhosis (pacjent z marskością wątroby)"
   ]
  },
  {
   "cell_type": "code",
   "execution_count": 6,
   "id": "565f86ec",
   "metadata": {},
   "outputs": [],
   "source": [
    "categories = pd.DataFrame(df['Category'].value_counts())"
   ]
  },
  {
   "cell_type": "code",
   "execution_count": 15,
   "id": "b1b8f39d",
   "metadata": {},
   "outputs": [
    {
     "data": {
      "text/plain": [
       "array([<AxesSubplot:ylabel='Category'>], dtype=object)"
      ]
     },
     "execution_count": 15,
     "metadata": {},
     "output_type": "execute_result"
    },
    {
     "data": {
      "image/png": "[encoded data removed]",
      "text/plain": [
       "<Figure size 432x288 with 1 Axes>"
      ]
     },
     "metadata": {
      "needs_background": "light"
     },
     "output_type": "display_data"
    },
    {
     "data": {
      "image/png": "[encoded data removed]",
      "text/plain": [
       "<Figure size 432x288 with 1 Axes>"
      ]
     },
     "metadata": {},
     "output_type": "display_data"
    }
   ],
   "source": [
    "categories.plot.bar(ylabel = 'Liczebność klasy')\n",
    "categories.plot.pie(subplots=True)\n"
   ]
  },
  {
   "cell_type": "markdown",
   "id": "15375fa2",
   "metadata": {},
   "source": [
    "Zbiór danych jest niezbalansowany, zdecydowanie przeważa klasa 0=Blood Donor."
   ]
  },
  {
   "cell_type": "markdown",
   "id": "1e89c13d",
   "metadata": {},
   "source": [
    "Oprócz klasy w zbiorze występuje 13 atrybutów:\n",
    "- ID pacjenta,\n",
    "- wiek,\n",
    "- płeć (m, f),\n",
    "- ALB - poziom albuminy,\n",
    "- ALP - poziom fosfatazy alkalicznej,\n",
    "- ALT - poziom aminotransferazy alaninowej,\n",
    "- AST - poziom aminotransferazy asparaginowej,\n",
    "- BIL - poziom bilirubiny,\n",
    "- CHE - poziom cholinoesterazy,\n",
    "- CHOL - poziom cholesterolu,\n",
    "- CREA - poziom kreatyniny,\n",
    "- GGT - poziom gammaglutamylotransferazy,\n",
    "- PROT - poziom białka całkowitego."
   ]
  },
  {
   "cell_type": "code",
   "execution_count": 16,
   "id": "ad82d88e",
   "metadata": {},
   "outputs": [],
   "source": [
    "#usunięcie kolumny Unnamed:0 zawierającej ID pacjenta, która nie jest istotna w analizie\n",
    "if 'Unnamed: 0' in df: del df['Unnamed: 0']"
   ]
  },
  {
   "cell_type": "code",
   "execution_count": 17,
   "id": "c8c7180a",
   "metadata": {},
   "outputs": [
    {
     "name": "stdout",
     "output_type": "stream",
     "text": [
      "('ALB', 1)\n",
      "('ALP', 18)\n",
      "('ALT', 1)\n",
      "('CHOL', 10)\n",
      "('PROT', 1)\n"
     ]
    }
   ],
   "source": [
    "#sprawdzenie, czy w zbiorze występują brakujące dane\n",
    "def check_missing():\n",
    "    for column in df.columns:\n",
    "        missing = column, df[column].isnull().sum()\n",
    "        if missing[1] == 0: continue\n",
    "\n",
    "        print(missing)\n",
    "        \n",
    "check_missing()"
   ]
  },
  {
   "cell_type": "markdown",
   "id": "f6b818c0",
   "metadata": {},
   "source": [
    "W przypadku niektórych instancji występują braki danych dotyczące pewnych parametrów krwi. Brakujące dane zostaną zastąpione wartościami średnimi tych parametrów."
   ]
  },
  {
   "cell_type": "code",
   "execution_count": 18,
   "id": "f844d11f",
   "metadata": {},
   "outputs": [
    {
     "data": {
      "text/html": [
       "<div>\n",
       "<style scoped>\n",
       "    .dataframe tbody tr th:only-of-type {\n",
       "        vertical-align: middle;\n",
       "    }\n",
       "\n",
       "    .dataframe tbody tr th {\n",
       "        vertical-align: top;\n",
       "    }\n",
       "\n",
       "    .dataframe thead th {\n",
       "        text-align: right;\n",
       "    }\n",
       "</style>\n",
       "<table border=\"1\" class=\"dataframe\">\n",
       "  <thead>\n",
       "    <tr style=\"text-align: right;\">\n",
       "      <th></th>\n",
       "      <th>Age</th>\n",
       "      <th>ALB</th>\n",
       "      <th>ALP</th>\n",
       "      <th>ALT</th>\n",
       "      <th>AST</th>\n",
       "      <th>BIL</th>\n",
       "      <th>CHE</th>\n",
       "      <th>CHOL</th>\n",
       "      <th>CREA</th>\n",
       "      <th>GGT</th>\n",
       "      <th>PROT</th>\n",
       "    </tr>\n",
       "  </thead>\n",
       "  <tbody>\n",
       "    <tr>\n",
       "      <th>count</th>\n",
       "      <td>615.000000</td>\n",
       "      <td>614.000000</td>\n",
       "      <td>597.000000</td>\n",
       "      <td>614.000000</td>\n",
       "      <td>615.000000</td>\n",
       "      <td>615.000000</td>\n",
       "      <td>615.000000</td>\n",
       "      <td>605.000000</td>\n",
       "      <td>615.000000</td>\n",
       "      <td>615.000000</td>\n",
       "      <td>614.000000</td>\n",
       "    </tr>\n",
       "    <tr>\n",
       "      <th>mean</th>\n",
       "      <td>47.408130</td>\n",
       "      <td>41.620195</td>\n",
       "      <td>68.283920</td>\n",
       "      <td>28.450814</td>\n",
       "      <td>34.786341</td>\n",
       "      <td>11.396748</td>\n",
       "      <td>8.196634</td>\n",
       "      <td>5.368099</td>\n",
       "      <td>81.287805</td>\n",
       "      <td>39.533171</td>\n",
       "      <td>72.044137</td>\n",
       "    </tr>\n",
       "    <tr>\n",
       "      <th>std</th>\n",
       "      <td>10.055105</td>\n",
       "      <td>5.780629</td>\n",
       "      <td>26.028315</td>\n",
       "      <td>25.469689</td>\n",
       "      <td>33.090690</td>\n",
       "      <td>19.673150</td>\n",
       "      <td>2.205657</td>\n",
       "      <td>1.132728</td>\n",
       "      <td>49.756166</td>\n",
       "      <td>54.661071</td>\n",
       "      <td>5.402636</td>\n",
       "    </tr>\n",
       "    <tr>\n",
       "      <th>min</th>\n",
       "      <td>19.000000</td>\n",
       "      <td>14.900000</td>\n",
       "      <td>11.300000</td>\n",
       "      <td>0.900000</td>\n",
       "      <td>10.600000</td>\n",
       "      <td>0.800000</td>\n",
       "      <td>1.420000</td>\n",
       "      <td>1.430000</td>\n",
       "      <td>8.000000</td>\n",
       "      <td>4.500000</td>\n",
       "      <td>44.800000</td>\n",
       "    </tr>\n",
       "    <tr>\n",
       "      <th>25%</th>\n",
       "      <td>39.000000</td>\n",
       "      <td>38.800000</td>\n",
       "      <td>52.500000</td>\n",
       "      <td>16.400000</td>\n",
       "      <td>21.600000</td>\n",
       "      <td>5.300000</td>\n",
       "      <td>6.935000</td>\n",
       "      <td>4.610000</td>\n",
       "      <td>67.000000</td>\n",
       "      <td>15.700000</td>\n",
       "      <td>69.300000</td>\n",
       "    </tr>\n",
       "    <tr>\n",
       "      <th>50%</th>\n",
       "      <td>47.000000</td>\n",
       "      <td>41.950000</td>\n",
       "      <td>66.200000</td>\n",
       "      <td>23.000000</td>\n",
       "      <td>25.900000</td>\n",
       "      <td>7.300000</td>\n",
       "      <td>8.260000</td>\n",
       "      <td>5.300000</td>\n",
       "      <td>77.000000</td>\n",
       "      <td>23.300000</td>\n",
       "      <td>72.200000</td>\n",
       "    </tr>\n",
       "    <tr>\n",
       "      <th>75%</th>\n",
       "      <td>54.000000</td>\n",
       "      <td>45.200000</td>\n",
       "      <td>80.100000</td>\n",
       "      <td>33.075000</td>\n",
       "      <td>32.900000</td>\n",
       "      <td>11.200000</td>\n",
       "      <td>9.590000</td>\n",
       "      <td>6.060000</td>\n",
       "      <td>88.000000</td>\n",
       "      <td>40.200000</td>\n",
       "      <td>75.400000</td>\n",
       "    </tr>\n",
       "    <tr>\n",
       "      <th>max</th>\n",
       "      <td>77.000000</td>\n",
       "      <td>82.200000</td>\n",
       "      <td>416.600000</td>\n",
       "      <td>325.300000</td>\n",
       "      <td>324.000000</td>\n",
       "      <td>254.000000</td>\n",
       "      <td>16.410000</td>\n",
       "      <td>9.670000</td>\n",
       "      <td>1079.100000</td>\n",
       "      <td>650.900000</td>\n",
       "      <td>90.000000</td>\n",
       "    </tr>\n",
       "  </tbody>\n",
       "</table>\n",
       "</div>"
      ],
      "text/plain": [
       "              Age         ALB         ALP         ALT         AST         BIL  \\\n",
       "count  615.000000  614.000000  597.000000  614.000000  615.000000  615.000000   \n",
       "mean    47.408130   41.620195   68.283920   28.450814   34.786341   11.396748   \n",
       "std     10.055105    5.780629   26.028315   25.469689   33.090690   19.673150   \n",
       "min     19.000000   14.900000   11.300000    0.900000   10.600000    0.800000   \n",
       "25%     39.000000   38.800000   52.500000   16.400000   21.600000    5.300000   \n",
       "50%     47.000000   41.950000   66.200000   23.000000   25.900000    7.300000   \n",
       "75%     54.000000   45.200000   80.100000   33.075000   32.900000   11.200000   \n",
       "max     77.000000   82.200000  416.600000  325.300000  324.000000  254.000000   \n",
       "\n",
       "              CHE        CHOL         CREA         GGT        PROT  \n",
       "count  615.000000  605.000000   615.000000  615.000000  614.000000  \n",
       "mean     8.196634    5.368099    81.287805   39.533171   72.044137  \n",
       "std      2.205657    1.132728    49.756166   54.661071    5.402636  \n",
       "min      1.420000    1.430000     8.000000    4.500000   44.800000  \n",
       "25%      6.935000    4.610000    67.000000   15.700000   69.300000  \n",
       "50%      8.260000    5.300000    77.000000   23.300000   72.200000  \n",
       "75%      9.590000    6.060000    88.000000   40.200000   75.400000  \n",
       "max     16.410000    9.670000  1079.100000  650.900000   90.000000  "
      ]
     },
     "execution_count": 18,
     "metadata": {},
     "output_type": "execute_result"
    }
   ],
   "source": [
    "df.describe()"
   ]
  },
  {
   "cell_type": "code",
   "execution_count": 19,
   "id": "4caf11c1",
   "metadata": {},
   "outputs": [],
   "source": [
    "df=df.fillna({'ALB':df['ALB'].mean(), 'ALP':df['ALP'].mean(), 'ALT':df['ALT'].mean(), 'CHOL':df['CHOL'].mean(), 'PROT':df['PROT'].mean()})"
   ]
  },
  {
   "cell_type": "code",
   "execution_count": 20,
   "id": "f259dce1",
   "metadata": {},
   "outputs": [],
   "source": [
    "check_missing()"
   ]
  },
  {
   "cell_type": "code",
   "execution_count": 224,
   "id": "77787e72",
   "metadata": {},
   "outputs": [],
   "source": [
    "# plt.subplot(6,2,1)\n",
    "# df['Age'].hist(figsize=(15,15))\n",
    "# plt.subplot(6,2,2)\n",
    "# df['ALB'].hist(figsize=(15,15))\n",
    "# plt.subplot(6,2,3)\n",
    "# df['ALP'].hist(figsize=(15,15))\n",
    "# plt.subplot(6,2,4)\n",
    "# df['ALT'].hist(figsize=(15,15))\n",
    "# plt.subplot(6,2,5)\n",
    "# df['AST'].hist(figsize=(15,15))\n",
    "# plt.subplot(6,2,6)\n",
    "# df['BIL'].hist(figsize=(15,15))\n",
    "# plt.subplot(6,2,7)\n",
    "# df['CHE'].hist(figsize=(15,15))\n",
    "# plt.subplot(6,2,8)\n",
    "# df['CHOL'].hist(figsize=(15,15))\n",
    "# plt.subplot(6,2,9)\n",
    "# df['CREA'].hist(figsize=(15,15))\n",
    "# plt.subplot(6,2,10)\n",
    "# df['GGT'].hist(figsize=(15,15))\n",
    "# plt.subplot(6,2,11)\n",
    "# df['PROT'].hist(figsize=(15,15))"
   ]
  },
  {
   "cell_type": "code",
   "execution_count": 21,
   "id": "5367d3b1",
   "metadata": {},
   "outputs": [],
   "source": [
    "#zmiana wartości atrybutów na wartości liczbowe\n",
    "df['Sex_cat'] = df['Sex'].factorize()[0]  \n",
    "# m:0, f:1\n",
    "\n",
    "def category_cat(row):\n",
    "    if row['Category'] == '0=Blood Donor': return 0\n",
    "    elif row['Category'] == '1=Hepatitis': return 1\n",
    "    elif row['Category'] == '2=Fibrosis':return 2\n",
    "    elif row['Category'] == '3=Cirrhosis': return 3\n",
    "    else: return 4\n",
    "df['Category_cat'] = df[['Category']].apply(category_cat, axis=1)"
   ]
  },
  {
   "cell_type": "code",
   "execution_count": 22,
   "id": "adb1b756",
   "metadata": {},
   "outputs": [
    {
     "data": {
      "text/html": [
       "<div>\n",
       "<style scoped>\n",
       "    .dataframe tbody tr th:only-of-type {\n",
       "        vertical-align: middle;\n",
       "    }\n",
       "\n",
       "    .dataframe tbody tr th {\n",
       "        vertical-align: top;\n",
       "    }\n",
       "\n",
       "    .dataframe thead th {\n",
       "        text-align: right;\n",
       "    }\n",
       "</style>\n",
       "<table border=\"1\" class=\"dataframe\">\n",
       "  <thead>\n",
       "    <tr style=\"text-align: right;\">\n",
       "      <th></th>\n",
       "      <th>Category</th>\n",
       "      <th>Age</th>\n",
       "      <th>Sex</th>\n",
       "      <th>ALB</th>\n",
       "      <th>ALP</th>\n",
       "      <th>ALT</th>\n",
       "      <th>AST</th>\n",
       "      <th>BIL</th>\n",
       "      <th>CHE</th>\n",
       "      <th>CHOL</th>\n",
       "      <th>CREA</th>\n",
       "      <th>GGT</th>\n",
       "      <th>PROT</th>\n",
       "      <th>Sex_cat</th>\n",
       "      <th>Category_cat</th>\n",
       "    </tr>\n",
       "  </thead>\n",
       "  <tbody>\n",
       "    <tr>\n",
       "      <th>444</th>\n",
       "      <td>0=Blood Donor</td>\n",
       "      <td>49</td>\n",
       "      <td>f</td>\n",
       "      <td>45.4</td>\n",
       "      <td>45.9</td>\n",
       "      <td>14.3</td>\n",
       "      <td>15.9</td>\n",
       "      <td>5.8</td>\n",
       "      <td>9.05</td>\n",
       "      <td>6.81</td>\n",
       "      <td>69.0</td>\n",
       "      <td>14.5</td>\n",
       "      <td>78.2</td>\n",
       "      <td>1</td>\n",
       "      <td>0</td>\n",
       "    </tr>\n",
       "    <tr>\n",
       "      <th>123</th>\n",
       "      <td>0=Blood Donor</td>\n",
       "      <td>43</td>\n",
       "      <td>m</td>\n",
       "      <td>39.4</td>\n",
       "      <td>61.8</td>\n",
       "      <td>55.0</td>\n",
       "      <td>32.5</td>\n",
       "      <td>7.1</td>\n",
       "      <td>11.94</td>\n",
       "      <td>7.84</td>\n",
       "      <td>64.0</td>\n",
       "      <td>153.5</td>\n",
       "      <td>75.6</td>\n",
       "      <td>0</td>\n",
       "      <td>0</td>\n",
       "    </tr>\n",
       "    <tr>\n",
       "      <th>259</th>\n",
       "      <td>0=Blood Donor</td>\n",
       "      <td>57</td>\n",
       "      <td>m</td>\n",
       "      <td>59.7</td>\n",
       "      <td>64.5</td>\n",
       "      <td>17.3</td>\n",
       "      <td>21.2</td>\n",
       "      <td>18.9</td>\n",
       "      <td>12.07</td>\n",
       "      <td>3.97</td>\n",
       "      <td>106.0</td>\n",
       "      <td>15.1</td>\n",
       "      <td>77.6</td>\n",
       "      <td>0</td>\n",
       "      <td>0</td>\n",
       "    </tr>\n",
       "    <tr>\n",
       "      <th>166</th>\n",
       "      <td>0=Blood Donor</td>\n",
       "      <td>47</td>\n",
       "      <td>m</td>\n",
       "      <td>42.1</td>\n",
       "      <td>81.6</td>\n",
       "      <td>26.4</td>\n",
       "      <td>26.4</td>\n",
       "      <td>5.5</td>\n",
       "      <td>10.50</td>\n",
       "      <td>5.95</td>\n",
       "      <td>97.0</td>\n",
       "      <td>35.3</td>\n",
       "      <td>77.5</td>\n",
       "      <td>0</td>\n",
       "      <td>0</td>\n",
       "    </tr>\n",
       "    <tr>\n",
       "      <th>477</th>\n",
       "      <td>0=Blood Donor</td>\n",
       "      <td>53</td>\n",
       "      <td>f</td>\n",
       "      <td>43.5</td>\n",
       "      <td>61.7</td>\n",
       "      <td>16.9</td>\n",
       "      <td>20.3</td>\n",
       "      <td>7.0</td>\n",
       "      <td>7.19</td>\n",
       "      <td>6.97</td>\n",
       "      <td>74.0</td>\n",
       "      <td>12.3</td>\n",
       "      <td>69.2</td>\n",
       "      <td>1</td>\n",
       "      <td>0</td>\n",
       "    </tr>\n",
       "    <tr>\n",
       "      <th>112</th>\n",
       "      <td>0=Blood Donor</td>\n",
       "      <td>42</td>\n",
       "      <td>m</td>\n",
       "      <td>46.4</td>\n",
       "      <td>43.7</td>\n",
       "      <td>18.7</td>\n",
       "      <td>24.3</td>\n",
       "      <td>6.3</td>\n",
       "      <td>6.59</td>\n",
       "      <td>4.78</td>\n",
       "      <td>93.0</td>\n",
       "      <td>10.1</td>\n",
       "      <td>73.1</td>\n",
       "      <td>0</td>\n",
       "      <td>0</td>\n",
       "    </tr>\n",
       "    <tr>\n",
       "      <th>12</th>\n",
       "      <td>0=Blood Donor</td>\n",
       "      <td>33</td>\n",
       "      <td>m</td>\n",
       "      <td>36.3</td>\n",
       "      <td>78.6</td>\n",
       "      <td>23.6</td>\n",
       "      <td>22.0</td>\n",
       "      <td>7.0</td>\n",
       "      <td>8.56</td>\n",
       "      <td>5.38</td>\n",
       "      <td>78.0</td>\n",
       "      <td>19.4</td>\n",
       "      <td>68.7</td>\n",
       "      <td>0</td>\n",
       "      <td>0</td>\n",
       "    </tr>\n",
       "    <tr>\n",
       "      <th>398</th>\n",
       "      <td>0=Blood Donor</td>\n",
       "      <td>45</td>\n",
       "      <td>f</td>\n",
       "      <td>39.5</td>\n",
       "      <td>92.2</td>\n",
       "      <td>18.7</td>\n",
       "      <td>19.4</td>\n",
       "      <td>3.5</td>\n",
       "      <td>8.32</td>\n",
       "      <td>5.38</td>\n",
       "      <td>85.0</td>\n",
       "      <td>15.8</td>\n",
       "      <td>72.2</td>\n",
       "      <td>1</td>\n",
       "      <td>0</td>\n",
       "    </tr>\n",
       "    <tr>\n",
       "      <th>513</th>\n",
       "      <td>0=Blood Donor</td>\n",
       "      <td>59</td>\n",
       "      <td>f</td>\n",
       "      <td>40.0</td>\n",
       "      <td>68.4</td>\n",
       "      <td>13.2</td>\n",
       "      <td>20.3</td>\n",
       "      <td>8.2</td>\n",
       "      <td>9.10</td>\n",
       "      <td>6.38</td>\n",
       "      <td>63.0</td>\n",
       "      <td>16.3</td>\n",
       "      <td>71.9</td>\n",
       "      <td>1</td>\n",
       "      <td>0</td>\n",
       "    </tr>\n",
       "    <tr>\n",
       "      <th>349</th>\n",
       "      <td>0=Blood Donor</td>\n",
       "      <td>35</td>\n",
       "      <td>f</td>\n",
       "      <td>46.9</td>\n",
       "      <td>50.8</td>\n",
       "      <td>35.4</td>\n",
       "      <td>22.1</td>\n",
       "      <td>13.1</td>\n",
       "      <td>8.27</td>\n",
       "      <td>5.70</td>\n",
       "      <td>95.0</td>\n",
       "      <td>37.3</td>\n",
       "      <td>80.7</td>\n",
       "      <td>1</td>\n",
       "      <td>0</td>\n",
       "    </tr>\n",
       "  </tbody>\n",
       "</table>\n",
       "</div>"
      ],
      "text/plain": [
       "          Category  Age Sex   ALB   ALP   ALT   AST   BIL    CHE  CHOL   CREA  \\\n",
       "444  0=Blood Donor   49   f  45.4  45.9  14.3  15.9   5.8   9.05  6.81   69.0   \n",
       "123  0=Blood Donor   43   m  39.4  61.8  55.0  32.5   7.1  11.94  7.84   64.0   \n",
       "259  0=Blood Donor   57   m  59.7  64.5  17.3  21.2  18.9  12.07  3.97  106.0   \n",
       "166  0=Blood Donor   47   m  42.1  81.6  26.4  26.4   5.5  10.50  5.95   97.0   \n",
       "477  0=Blood Donor   53   f  43.5  61.7  16.9  20.3   7.0   7.19  6.97   74.0   \n",
       "112  0=Blood Donor   42   m  46.4  43.7  18.7  24.3   6.3   6.59  4.78   93.0   \n",
       "12   0=Blood Donor   33   m  36.3  78.6  23.6  22.0   7.0   8.56  5.38   78.0   \n",
       "398  0=Blood Donor   45   f  39.5  92.2  18.7  19.4   3.5   8.32  5.38   85.0   \n",
       "513  0=Blood Donor   59   f  40.0  68.4  13.2  20.3   8.2   9.10  6.38   63.0   \n",
       "349  0=Blood Donor   35   f  46.9  50.8  35.4  22.1  13.1   8.27  5.70   95.0   \n",
       "\n",
       "       GGT  PROT  Sex_cat  Category_cat  \n",
       "444   14.5  78.2        1             0  \n",
       "123  153.5  75.6        0             0  \n",
       "259   15.1  77.6        0             0  \n",
       "166   35.3  77.5        0             0  \n",
       "477   12.3  69.2        1             0  \n",
       "112   10.1  73.1        0             0  \n",
       "12    19.4  68.7        0             0  \n",
       "398   15.8  72.2        1             0  \n",
       "513   16.3  71.9        1             0  \n",
       "349   37.3  80.7        1             0  "
      ]
     },
     "execution_count": 22,
     "metadata": {},
     "output_type": "execute_result"
    }
   ],
   "source": [
    "df.sample(10)"
   ]
  },
  {
   "cell_type": "markdown",
   "id": "33630677",
   "metadata": {},
   "source": [
    "### Tworzenie modelu"
   ]
  },
  {
   "cell_type": "code",
   "execution_count": 126,
   "id": "4a1faa7f",
   "metadata": {},
   "outputs": [],
   "source": [
    "def get_features(df, black_list=['Category_cat','Category_prediction']):\n",
    "    num_features = df.select_dtypes(np.number).columns\n",
    "    return [i for i in num_features if i not in black_list]\n",
    "\n",
    "def get_X_y(df, features=None):\n",
    "    if features is None:\n",
    "        features = get_features(df)\n",
    "        \n",
    "    X = df[features].values\n",
    "    y = df['Category_cat'].values\n",
    "    \n",
    "    return X, y\n",
    "\n",
    "X,y = get_X_y(df)\n",
    "# X - macierz cech używanych w modelu\n",
    "# y - wektor zmiennej docelowej"
   ]
  },
  {
   "cell_type": "code",
   "execution_count": 180,
   "id": "42221a2e",
   "metadata": {},
   "outputs": [],
   "source": [
    "def train_and_predict(model, X, y, test_size=0.3):\n",
    "    X_train, y_train, X_test, y_test = train_test_split(X, y, test_size=0.3, random_state=1)\n",
    "    \n",
    "    cv = KFold(n_splits=4, random_state=1, shuffle=True)\n",
    "    scores=[]\n",
    "    for train_idx, test_idx in cv.split(y):\n",
    "        model.fit(X[train_idx], y[train_idx])\n",
    "        y_pred = model.predict(X[test_idx])\n",
    "        \n",
    "    score = accuracy_score(y[test_idx], y_pred)\n",
    "    scores.append(score)\n",
    "    \n",
    "    return print(score),print(classification_report(y[test_idx],y_pred))"
   ]
  },
  {
   "cell_type": "code",
   "execution_count": 170,
   "id": "299b8ef1",
   "metadata": {},
   "outputs": [],
   "source": [
    "#train_and_predict(DummyClassifier(), X, y, test_size=0.3)"
   ]
  },
  {
   "cell_type": "code",
   "execution_count": 171,
   "id": "a9655b00",
   "metadata": {},
   "outputs": [],
   "source": [
    "#train_and_predict(LogisticRegression(solver='saga', max_iter=10000), X, y, test_size=0.3)"
   ]
  },
  {
   "cell_type": "code",
   "execution_count": 348,
   "id": "97523610",
   "metadata": {},
   "outputs": [
    {
     "name": "stdout",
     "output_type": "stream",
     "text": [
      "0.6666666666666666\n",
      "              precision    recall  f1-score   support\n",
      "\n",
      "           1       0.80      0.89      0.84         9\n",
      "           2       0.00      0.00      0.00         3\n",
      "           3       0.67      0.67      0.67         6\n",
      "\n",
      "    accuracy                           0.67        18\n",
      "   macro avg       0.49      0.52      0.50        18\n",
      "weighted avg       0.62      0.67      0.64        18\n",
      "\n"
     ]
    },
    {
     "data": {
      "text/plain": [
       "(None, None)"
      ]
     },
     "execution_count": 348,
     "metadata": {},
     "output_type": "execute_result"
    }
   ],
   "source": [
    "train_and_predict(DecisionTreeClassifier(max_depth=50, random_state=1),X, y, test_size=0.3)"
   ]
  },
  {
   "cell_type": "code",
   "execution_count": 196,
   "id": "99f41764",
   "metadata": {},
   "outputs": [],
   "source": [
    "#train_and_predict(RandomForestClassifier(), X, y, test_size=0.3)"
   ]
  },
  {
   "cell_type": "code",
   "execution_count": 173,
   "id": "31518814",
   "metadata": {},
   "outputs": [],
   "source": [
    "#train_and_predict(ExtraTreesClassifier(), X, y, test_size=0.3)"
   ]
  },
  {
   "cell_type": "code",
   "execution_count": 174,
   "id": "b121e3f5",
   "metadata": {},
   "outputs": [],
   "source": [
    "#train_and_predict(xgb.XGBClassifier(), X, y, test_size=0.3)"
   ]
  },
  {
   "cell_type": "code",
   "execution_count": 175,
   "id": "b7bdbc96",
   "metadata": {},
   "outputs": [],
   "source": [
    "#train_and_predict(lgb.LGBMClassifier(), X, y, test_size=0.3)`"
   ]
  },
  {
   "cell_type": "code",
   "execution_count": 176,
   "id": "2175a16a",
   "metadata": {},
   "outputs": [],
   "source": [
    "#train_and_predict(ctb.CatBoostClassifier(), X, y, test_size=0.3)"
   ]
  },
  {
   "cell_type": "code",
   "execution_count": 350,
   "id": "6a0ad9c5",
   "metadata": {},
   "outputs": [
    {
     "data": {
      "image/png": "[encoded data removed]",
      "text/plain": [
       "<Figure size 720x720 with 2 Axes>"
      ]
     },
     "metadata": {
      "needs_background": "light"
     },
     "output_type": "display_data"
    }
   ],
   "source": [
    "y_pred = cross_val_predict(DecisionTreeClassifier(max_depth=50, random_state=1), X, y, cv=4)\n",
    "skplt.metrics.plot_confusion_matrix(y, y_pred, normalize=False, figsize=(10 ,10));"
   ]
  },
  {
   "cell_type": "code",
   "execution_count": 351,
   "id": "ddc8b056",
   "metadata": {},
   "outputs": [
    {
     "data": {
      "image/png": "[encoded data removed]",
      "text/plain": [
       "<Figure size 1080x360 with 1 Axes>"
      ]
     },
     "metadata": {
      "needs_background": "light"
     },
     "output_type": "display_data"
    }
   ],
   "source": [
    "model = DecisionTreeClassifier(max_depth=50, random_state=1)\n",
    "model.fit(X, y)\n",
    "\n",
    "feats = get_features(df)\n",
    "skplt.estimators.plot_feature_importances(model, feature_names=feats, x_tick_rotation=90, figsize=(15, 5));"
   ]
  },
  {
   "cell_type": "code",
   "execution_count": 352,
   "id": "0aab03cb",
   "metadata": {},
   "outputs": [
    {
     "data": {
      "image/png": "[encoded data removed]",
      "text/plain": [
       "<Figure size 1080x360 with 1 Axes>"
      ]
     },
     "metadata": {
      "needs_background": "light"
     },
     "output_type": "display_data"
    }
   ],
   "source": [
    "model=DecisionTreeClassifier(max_depth=50, random_state=1)\n",
    "skplt.estimators.plot_learning_curve(model, X, y, figsize=(15, 5), cv=3, scoring='accuracy');"
   ]
  },
  {
   "cell_type": "markdown",
   "id": "6417755c",
   "metadata": {},
   "source": [
    "#### Analiza tylko danych z klas 1, 2 i 3 (tylko pacjenci chorzy)"
   ]
  },
  {
   "cell_type": "code",
   "execution_count": 239,
   "id": "40b49fd0",
   "metadata": {},
   "outputs": [],
   "source": [
    "df2 = df[df['Category'].isin(['1=Hepatitis','2=Fibrosis','3=Cirrhosis'])]"
   ]
  },
  {
   "cell_type": "code",
   "execution_count": 241,
   "id": "48bd2c2a",
   "metadata": {},
   "outputs": [
    {
     "data": {
      "text/html": [
       "<div>\n",
       "<style scoped>\n",
       "    .dataframe tbody tr th:only-of-type {\n",
       "        vertical-align: middle;\n",
       "    }\n",
       "\n",
       "    .dataframe tbody tr th {\n",
       "        vertical-align: top;\n",
       "    }\n",
       "\n",
       "    .dataframe thead th {\n",
       "        text-align: right;\n",
       "    }\n",
       "</style>\n",
       "<table border=\"1\" class=\"dataframe\">\n",
       "  <thead>\n",
       "    <tr style=\"text-align: right;\">\n",
       "      <th></th>\n",
       "      <th>Category</th>\n",
       "      <th>Age</th>\n",
       "      <th>Sex</th>\n",
       "      <th>ALB</th>\n",
       "      <th>ALP</th>\n",
       "      <th>ALT</th>\n",
       "      <th>AST</th>\n",
       "      <th>BIL</th>\n",
       "      <th>CHE</th>\n",
       "      <th>CHOL</th>\n",
       "      <th>CREA</th>\n",
       "      <th>GGT</th>\n",
       "      <th>PROT</th>\n",
       "      <th>Sex_cat</th>\n",
       "      <th>Category_cat</th>\n",
       "    </tr>\n",
       "  </thead>\n",
       "  <tbody>\n",
       "    <tr>\n",
       "      <th>575</th>\n",
       "      <td>2=Fibrosis</td>\n",
       "      <td>64</td>\n",
       "      <td>m</td>\n",
       "      <td>38.0</td>\n",
       "      <td>35.70000</td>\n",
       "      <td>7.1</td>\n",
       "      <td>41.3</td>\n",
       "      <td>13.0</td>\n",
       "      <td>7.10</td>\n",
       "      <td>4.52</td>\n",
       "      <td>70.0</td>\n",
       "      <td>53.0</td>\n",
       "      <td>66.8</td>\n",
       "      <td>0</td>\n",
       "      <td>2</td>\n",
       "    </tr>\n",
       "    <tr>\n",
       "      <th>586</th>\n",
       "      <td>3=Cirrhosis</td>\n",
       "      <td>39</td>\n",
       "      <td>m</td>\n",
       "      <td>34.0</td>\n",
       "      <td>137.80000</td>\n",
       "      <td>4.8</td>\n",
       "      <td>35.6</td>\n",
       "      <td>9.0</td>\n",
       "      <td>3.65</td>\n",
       "      <td>4.82</td>\n",
       "      <td>519.0</td>\n",
       "      <td>133.4</td>\n",
       "      <td>57.5</td>\n",
       "      <td>0</td>\n",
       "      <td>3</td>\n",
       "    </tr>\n",
       "    <tr>\n",
       "      <th>562</th>\n",
       "      <td>1=Hepatitis</td>\n",
       "      <td>50</td>\n",
       "      <td>f</td>\n",
       "      <td>40.0</td>\n",
       "      <td>32.70000</td>\n",
       "      <td>9.0</td>\n",
       "      <td>46.0</td>\n",
       "      <td>10.0</td>\n",
       "      <td>7.51</td>\n",
       "      <td>4.67</td>\n",
       "      <td>56.6</td>\n",
       "      <td>22.3</td>\n",
       "      <td>70.1</td>\n",
       "      <td>1</td>\n",
       "      <td>1</td>\n",
       "    </tr>\n",
       "    <tr>\n",
       "      <th>583</th>\n",
       "      <td>2=Fibrosis</td>\n",
       "      <td>56</td>\n",
       "      <td>f</td>\n",
       "      <td>39.0</td>\n",
       "      <td>68.28392</td>\n",
       "      <td>42.0</td>\n",
       "      <td>34.0</td>\n",
       "      <td>10.0</td>\n",
       "      <td>7.75</td>\n",
       "      <td>5.00</td>\n",
       "      <td>80.0</td>\n",
       "      <td>84.0</td>\n",
       "      <td>78.0</td>\n",
       "      <td>1</td>\n",
       "      <td>2</td>\n",
       "    </tr>\n",
       "    <tr>\n",
       "      <th>556</th>\n",
       "      <td>1=Hepatitis</td>\n",
       "      <td>50</td>\n",
       "      <td>m</td>\n",
       "      <td>42.0</td>\n",
       "      <td>41.60000</td>\n",
       "      <td>10.2</td>\n",
       "      <td>38.1</td>\n",
       "      <td>17.0</td>\n",
       "      <td>9.54</td>\n",
       "      <td>7.04</td>\n",
       "      <td>75.3</td>\n",
       "      <td>92.1</td>\n",
       "      <td>72.3</td>\n",
       "      <td>0</td>\n",
       "      <td>1</td>\n",
       "    </tr>\n",
       "    <tr>\n",
       "      <th>613</th>\n",
       "      <td>3=Cirrhosis</td>\n",
       "      <td>46</td>\n",
       "      <td>f</td>\n",
       "      <td>33.0</td>\n",
       "      <td>68.28392</td>\n",
       "      <td>39.0</td>\n",
       "      <td>62.0</td>\n",
       "      <td>20.0</td>\n",
       "      <td>3.56</td>\n",
       "      <td>4.20</td>\n",
       "      <td>52.0</td>\n",
       "      <td>50.0</td>\n",
       "      <td>71.0</td>\n",
       "      <td>1</td>\n",
       "      <td>3</td>\n",
       "    </tr>\n",
       "    <tr>\n",
       "      <th>545</th>\n",
       "      <td>1=Hepatitis</td>\n",
       "      <td>29</td>\n",
       "      <td>m</td>\n",
       "      <td>49.0</td>\n",
       "      <td>68.28392</td>\n",
       "      <td>53.0</td>\n",
       "      <td>39.0</td>\n",
       "      <td>15.0</td>\n",
       "      <td>8.79</td>\n",
       "      <td>3.60</td>\n",
       "      <td>79.0</td>\n",
       "      <td>37.0</td>\n",
       "      <td>90.0</td>\n",
       "      <td>0</td>\n",
       "      <td>1</td>\n",
       "    </tr>\n",
       "    <tr>\n",
       "      <th>541</th>\n",
       "      <td>1=Hepatitis</td>\n",
       "      <td>19</td>\n",
       "      <td>m</td>\n",
       "      <td>41.0</td>\n",
       "      <td>68.28392</td>\n",
       "      <td>87.0</td>\n",
       "      <td>67.0</td>\n",
       "      <td>12.0</td>\n",
       "      <td>7.55</td>\n",
       "      <td>3.90</td>\n",
       "      <td>62.0</td>\n",
       "      <td>65.0</td>\n",
       "      <td>75.0</td>\n",
       "      <td>0</td>\n",
       "      <td>1</td>\n",
       "    </tr>\n",
       "    <tr>\n",
       "      <th>568</th>\n",
       "      <td>2=Fibrosis</td>\n",
       "      <td>49</td>\n",
       "      <td>m</td>\n",
       "      <td>39.0</td>\n",
       "      <td>68.28392</td>\n",
       "      <td>118.0</td>\n",
       "      <td>62.0</td>\n",
       "      <td>10.0</td>\n",
       "      <td>7.28</td>\n",
       "      <td>3.50</td>\n",
       "      <td>72.0</td>\n",
       "      <td>74.0</td>\n",
       "      <td>81.0</td>\n",
       "      <td>0</td>\n",
       "      <td>2</td>\n",
       "    </tr>\n",
       "    <tr>\n",
       "      <th>602</th>\n",
       "      <td>3=Cirrhosis</td>\n",
       "      <td>61</td>\n",
       "      <td>m</td>\n",
       "      <td>39.0</td>\n",
       "      <td>102.90000</td>\n",
       "      <td>27.3</td>\n",
       "      <td>143.2</td>\n",
       "      <td>15.0</td>\n",
       "      <td>5.38</td>\n",
       "      <td>4.88</td>\n",
       "      <td>72.3</td>\n",
       "      <td>400.3</td>\n",
       "      <td>73.4</td>\n",
       "      <td>0</td>\n",
       "      <td>3</td>\n",
       "    </tr>\n",
       "  </tbody>\n",
       "</table>\n",
       "</div>"
      ],
      "text/plain": [
       "        Category  Age Sex   ALB        ALP    ALT    AST   BIL   CHE  CHOL  \\\n",
       "575   2=Fibrosis   64   m  38.0   35.70000    7.1   41.3  13.0  7.10  4.52   \n",
       "586  3=Cirrhosis   39   m  34.0  137.80000    4.8   35.6   9.0  3.65  4.82   \n",
       "562  1=Hepatitis   50   f  40.0   32.70000    9.0   46.0  10.0  7.51  4.67   \n",
       "583   2=Fibrosis   56   f  39.0   68.28392   42.0   34.0  10.0  7.75  5.00   \n",
       "556  1=Hepatitis   50   m  42.0   41.60000   10.2   38.1  17.0  9.54  7.04   \n",
       "613  3=Cirrhosis   46   f  33.0   68.28392   39.0   62.0  20.0  3.56  4.20   \n",
       "545  1=Hepatitis   29   m  49.0   68.28392   53.0   39.0  15.0  8.79  3.60   \n",
       "541  1=Hepatitis   19   m  41.0   68.28392   87.0   67.0  12.0  7.55  3.90   \n",
       "568   2=Fibrosis   49   m  39.0   68.28392  118.0   62.0  10.0  7.28  3.50   \n",
       "602  3=Cirrhosis   61   m  39.0  102.90000   27.3  143.2  15.0  5.38  4.88   \n",
       "\n",
       "      CREA    GGT  PROT  Sex_cat  Category_cat  \n",
       "575   70.0   53.0  66.8        0             2  \n",
       "586  519.0  133.4  57.5        0             3  \n",
       "562   56.6   22.3  70.1        1             1  \n",
       "583   80.0   84.0  78.0        1             2  \n",
       "556   75.3   92.1  72.3        0             1  \n",
       "613   52.0   50.0  71.0        1             3  \n",
       "545   79.0   37.0  90.0        0             1  \n",
       "541   62.0   65.0  75.0        0             1  \n",
       "568   72.0   74.0  81.0        0             2  \n",
       "602   72.3  400.3  73.4        0             3  "
      ]
     },
     "execution_count": 241,
     "metadata": {},
     "output_type": "execute_result"
    }
   ],
   "source": [
    "df2.sample(10)"
   ]
  },
  {
   "cell_type": "code",
   "execution_count": 316,
   "id": "f6fb6adc",
   "metadata": {},
   "outputs": [],
   "source": [
    "def get_features_2(df2, black_list=['Category_cat','Category_prediction']):\n",
    "    num_features = df2.select_dtypes(np.number).columns\n",
    "    return [i for i in num_features if i not in black_list]\n",
    "\n",
    "def get_X_y_2(df2, features=None):\n",
    "    if features is None:\n",
    "        features = get_features(df2)\n",
    "        \n",
    "    X = df2[features].values\n",
    "    y = df2['Category_cat'].values\n",
    "    \n",
    "    return X, y\n",
    "\n",
    "X,y = get_X_y(df2)\n",
    "# X - macierz cech używanych w modelu\n",
    "# y - wektor zmiennej docelowej"
   ]
  },
  {
   "cell_type": "code",
   "execution_count": 344,
   "id": "df7d1a15",
   "metadata": {},
   "outputs": [
    {
     "name": "stdout",
     "output_type": "stream",
     "text": [
      "0.6666666666666666\n",
      "              precision    recall  f1-score   support\n",
      "\n",
      "           1       0.80      0.89      0.84         9\n",
      "           2       0.00      0.00      0.00         3\n",
      "           3       0.67      0.67      0.67         6\n",
      "\n",
      "    accuracy                           0.67        18\n",
      "   macro avg       0.49      0.52      0.50        18\n",
      "weighted avg       0.62      0.67      0.64        18\n",
      "\n"
     ]
    },
    {
     "data": {
      "text/plain": [
       "(None, None)"
      ]
     },
     "execution_count": 344,
     "metadata": {},
     "output_type": "execute_result"
    }
   ],
   "source": [
    "train_and_predict(DecisionTreeClassifier(max_depth=20, random_state=1),X, y, test_size=0.3)"
   ]
  },
  {
   "cell_type": "code",
   "execution_count": 345,
   "id": "32e48496",
   "metadata": {},
   "outputs": [
    {
     "data": {
      "image/png": "[encoded data removed]",
      "text/plain": [
       "<Figure size 720x720 with 2 Axes>"
      ]
     },
     "metadata": {
      "needs_background": "light"
     },
     "output_type": "display_data"
    }
   ],
   "source": [
    "y_pred = cross_val_predict(DecisionTreeClassifier(max_depth=20, random_state=1), X, y, cv=4)\n",
    "skplt.metrics.plot_confusion_matrix(y, y_pred, normalize=False, figsize=(10 ,10));"
   ]
  },
  {
   "cell_type": "code",
   "execution_count": 346,
   "id": "a3ebb1a8",
   "metadata": {},
   "outputs": [
    {
     "data": {
      "image/png": "[encoded data removed]",
      "text/plain": [
       "<Figure size 1080x360 with 1 Axes>"
      ]
     },
     "metadata": {
      "needs_background": "light"
     },
     "output_type": "display_data"
    }
   ],
   "source": [
    "model = DecisionTreeClassifier(max_depth=20, random_state=1)\n",
    "model.fit(X, y)\n",
    "\n",
    "feats = get_features(df2)\n",
    "skplt.estimators.plot_feature_importances(model, feature_names=feats, x_tick_rotation=90, figsize=(15, 5));"
   ]
  },
  {
   "cell_type": "code",
   "execution_count": 347,
   "id": "ff849d55",
   "metadata": {},
   "outputs": [
    {
     "data": {
      "image/png": "[encoded data removed]",
      "text/plain": [
       "<Figure size 1080x360 with 1 Axes>"
      ]
     },
     "metadata": {
      "needs_background": "light"
     },
     "output_type": "display_data"
    }
   ],
   "source": [
    "model=DecisionTreeClassifier(max_depth=20, random_state=1)\n",
    "skplt.estimators.plot_learning_curve(model, X, y, figsize=(15, 5), cv=3, scoring='accuracy');"
   ]
  },
  {
   "cell_type": "code",
   "execution_count": null,
   "id": "cff19f19",
   "metadata": {},
   "outputs": [],
   "source": []
  },
  {
   "cell_type": "code",
   "execution_count": null,
   "id": "e3daa0a0",
   "metadata": {},
   "outputs": [],
   "source": []
  }
 ],
 "metadata": {
  "kernelspec": {
   "display_name": "Python 3",
   "language": "python",
   "name": "python3"
  },
  "language_info": {
   "codemirror_mode": {
    "name": "ipython",
    "version": 3
   },
   "file_extension": ".py",
   "mimetype": "text/x-python",
   "name": "python",
   "nbconvert_exporter": "python",
   "pygments_lexer": "ipython3",
   "version": "3.8.8"
  }
 },
 "nbformat": 4,
 "nbformat_minor": 5
}
